{
 "cells": [
  {
   "cell_type": "code",
   "execution_count": null,
   "id": "db025ad2",
   "metadata": {},
   "outputs": [],
   "source": [
    "# app.py\n",
    "import streamlit as st\n",
    "import pandas as pd\n",
    "import tensorflow as tf\n",
    "import joblib\n",
    "\n",
    "# Load the trained model and the label encoder\n",
    "model = tf.keras.models.load_model('iris_nn_model.h5')\n",
    "encoder = joblib.load('label_encoder.pkl')\n",
    "\n",
    "# Load the Iris dataset to get class names\n",
    "from sklearn.datasets import load_iris\n",
    "iris = load_iris()\n",
    "\n",
    "# Streamlit app title\n",
    "st.title(\"Iris Flower Species Prediction\")\n",
    "\n",
    "# Create form for user input\n",
    "st.header(\"Input features\")\n",
    "sepal_length = st.slider(\"Sepal Length (cm)\", 0.0, 10.0, 5.0)\n",
    "sepal_width = st.slider(\"Sepal Width (cm)\", 0.0, 5.0, 3.0)\n",
    "petal_length = st.slider(\"Petal Length (cm)\", 0.0, 10.0, 4.0)\n",
    "petal_width = st.slider(\"Petal Width (cm)\", 0.0, 5.0, 1.5)\n",
    "\n",
    "# Make predictions\n",
    "input_data = pd.DataFrame({\n",
    "    'sepal length (cm)': [sepal_length],\n",
    "    'sepal width (cm)': [sepal_width],\n",
    "    'petal length (cm)': [petal_length],\n",
    "    'petal width (cm)': [petal_width]\n",
    "})\n",
    "prediction = model.predict(input_data)\n",
    "predicted_class = encoder.inverse_transform(prediction)[0]\n",
    "\n",
    "# Display the result\n",
    "st.header(\"Prediction\")\n",
    "st.write(f\"The predicted class is: {iris.target_names[predicted_class]}\")\n",
    "st.write(f\"Prediction probabilities: {prediction}\")\n",
    "\n",
    "# Show the class labels\n",
    "st.header(\"Class labels\")\n",
    "st.write({i: name for i, name in enumerate(iris.target_names)})\n"
   ]
  }
 ],
 "metadata": {
  "kernelspec": {
   "display_name": "Python 3 (ipykernel)",
   "language": "python",
   "name": "python3"
  },
  "language_info": {
   "codemirror_mode": {
    "name": "ipython",
    "version": 3
   },
   "file_extension": ".py",
   "mimetype": "text/x-python",
   "name": "python",
   "nbconvert_exporter": "python",
   "pygments_lexer": "ipython3",
   "version": "3.11.3"
  }
 },
 "nbformat": 4,
 "nbformat_minor": 5
}
